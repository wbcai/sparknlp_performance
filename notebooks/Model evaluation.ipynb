{
 "cells": [
  {
   "cell_type": "code",
   "execution_count": 16,
   "metadata": {},
   "outputs": [],
   "source": [
    "import pandas as pd\n",
    "from os import listdir\n",
    "from os.path import isfile, join\n",
    "import json"
   ]
  },
  {
   "cell_type": "code",
   "execution_count": 8,
   "metadata": {},
   "outputs": [],
   "source": [
    "metrics_path = \"/Users/briancai/Drive/NU/Q4/Text/sparknlp_performance/output/Run 1/Metrics\""
   ]
  },
  {
   "cell_type": "code",
   "execution_count": 12,
   "metadata": {},
   "outputs": [],
   "source": [
    "files = [join(metrics_path, f) for f in listdir(metrics_path) if isfile(join(metrics_path, f))]"
   ]
  },
  {
   "cell_type": "code",
   "execution_count": 13,
   "metadata": {},
   "outputs": [
    {
     "data": {
      "text/plain": [
       "['/Users/briancai/Drive/NU/Q4/Text/sparknlp_performance/output/Run 1/Metrics/SparkNLP_20000_20201118-113214',\n",
       " '/Users/briancai/Drive/NU/Q4/Text/sparknlp_performance/output/Run 1/Metrics/SparkNLP_80000_20201118-153933',\n",
       " '/Users/briancai/Drive/NU/Q4/Text/sparknlp_performance/output/Run 1/Metrics/SparkNLP_50000_20201118-133709',\n",
       " '/Users/briancai/Drive/NU/Q4/Text/sparknlp_performance/output/Run 1/Metrics/SparkNLP_10000_20201118-105600',\n",
       " '/Users/briancai/Drive/NU/Q4/Text/sparknlp_performance/output/Run 1/Metrics/SparkNLP_130000_20201118-185521',\n",
       " '/Users/briancai/Drive/NU/Q4/Text/sparknlp_performance/output/Run 1/Metrics/SparkNLP_30000_20201118-122325']"
      ]
     },
     "execution_count": 13,
     "metadata": {},
     "output_type": "execute_result"
    }
   ],
   "source": [
    "files"
   ]
  },
  {
   "cell_type": "code",
   "execution_count": 17,
   "metadata": {},
   "outputs": [],
   "source": [
    "metrics_list = []\n",
    "for file in files:\n",
    "    with open(file) as f:\n",
    "        data = json.load(f)\n",
    "    metrics_list.append(data)\n"
   ]
  },
  {
   "cell_type": "code",
   "execution_count": 19,
   "metadata": {},
   "outputs": [],
   "source": [
    "metrics_df = pd.DataFrame(metrics_list)"
   ]
  },
  {
   "cell_type": "code",
   "execution_count": 22,
   "metadata": {},
   "outputs": [
    {
     "data": {
      "text/html": [
       "<div>\n",
       "<style scoped>\n",
       "    .dataframe tbody tr th:only-of-type {\n",
       "        vertical-align: middle;\n",
       "    }\n",
       "\n",
       "    .dataframe tbody tr th {\n",
       "        vertical-align: top;\n",
       "    }\n",
       "\n",
       "    .dataframe thead th {\n",
       "        text-align: right;\n",
       "    }\n",
       "</style>\n",
       "<table border=\"1\" class=\"dataframe\">\n",
       "  <thead>\n",
       "    <tr style=\"text-align: right;\">\n",
       "      <th></th>\n",
       "      <th>model type</th>\n",
       "      <th>n</th>\n",
       "      <th>f1 score</th>\n",
       "      <th>start time</th>\n",
       "      <th>train end time</th>\n",
       "      <th>eval end time</th>\n",
       "      <th>total</th>\n",
       "    </tr>\n",
       "  </thead>\n",
       "  <tbody>\n",
       "    <tr>\n",
       "      <th>0</th>\n",
       "      <td>Spark NLP</td>\n",
       "      <td>20000</td>\n",
       "      <td>0.797799</td>\n",
       "      <td>1.605715e+09</td>\n",
       "      <td>1.605717e+09</td>\n",
       "      <td>1.605717e+09</td>\n",
       "      <td>2035.749444</td>\n",
       "    </tr>\n",
       "    <tr>\n",
       "      <th>1</th>\n",
       "      <td>Spark NLP</td>\n",
       "      <td>80000</td>\n",
       "      <td>0.799681</td>\n",
       "      <td>1.605725e+09</td>\n",
       "      <td>1.605730e+09</td>\n",
       "      <td>1.605732e+09</td>\n",
       "      <td>6855.685589</td>\n",
       "    </tr>\n",
       "    <tr>\n",
       "      <th>2</th>\n",
       "      <td>Spark NLP</td>\n",
       "      <td>50000</td>\n",
       "      <td>0.802302</td>\n",
       "      <td>1.605720e+09</td>\n",
       "      <td>1.605723e+09</td>\n",
       "      <td>1.605725e+09</td>\n",
       "      <td>4139.906242</td>\n",
       "    </tr>\n",
       "    <tr>\n",
       "      <th>3</th>\n",
       "      <td>Spark NLP</td>\n",
       "      <td>10000</td>\n",
       "      <td>0.806006</td>\n",
       "      <td>1.605714e+09</td>\n",
       "      <td>1.605715e+09</td>\n",
       "      <td>1.605715e+09</td>\n",
       "      <td>1060.800239</td>\n",
       "    </tr>\n",
       "    <tr>\n",
       "      <th>4</th>\n",
       "      <td>Spark NLP</td>\n",
       "      <td>130000</td>\n",
       "      <td>0.806679</td>\n",
       "      <td>1.605733e+09</td>\n",
       "      <td>1.605740e+09</td>\n",
       "      <td>1.605744e+09</td>\n",
       "      <td>10954.994863</td>\n",
       "    </tr>\n",
       "    <tr>\n",
       "      <th>5</th>\n",
       "      <td>Spark NLP</td>\n",
       "      <td>30000</td>\n",
       "      <td>0.798374</td>\n",
       "      <td>1.605717e+09</td>\n",
       "      <td>1.605719e+09</td>\n",
       "      <td>1.605720e+09</td>\n",
       "      <td>2806.691313</td>\n",
       "    </tr>\n",
       "  </tbody>\n",
       "</table>\n",
       "</div>"
      ],
      "text/plain": [
       "  model type       n  f1 score    start time  train end time  eval end time  \\\n",
       "0  Spark NLP   20000  0.797799  1.605715e+09    1.605717e+09   1.605717e+09   \n",
       "1  Spark NLP   80000  0.799681  1.605725e+09    1.605730e+09   1.605732e+09   \n",
       "2  Spark NLP   50000  0.802302  1.605720e+09    1.605723e+09   1.605725e+09   \n",
       "3  Spark NLP   10000  0.806006  1.605714e+09    1.605715e+09   1.605715e+09   \n",
       "4  Spark NLP  130000  0.806679  1.605733e+09    1.605740e+09   1.605744e+09   \n",
       "5  Spark NLP   30000  0.798374  1.605717e+09    1.605719e+09   1.605720e+09   \n",
       "\n",
       "          total  \n",
       "0   2035.749444  \n",
       "1   6855.685589  \n",
       "2   4139.906242  \n",
       "3   1060.800239  \n",
       "4  10954.994863  \n",
       "5   2806.691313  "
      ]
     },
     "execution_count": 22,
     "metadata": {},
     "output_type": "execute_result"
    }
   ],
   "source": [
    "metrics_df"
   ]
  },
  {
   "cell_type": "code",
   "execution_count": 21,
   "metadata": {},
   "outputs": [],
   "source": [
    "metrics_df['total'] = metrics_df['eval end time'] - metrics_df['start time']"
   ]
  },
  {
   "cell_type": "code",
   "execution_count": null,
   "metadata": {},
   "outputs": [],
   "source": []
  }
 ],
 "metadata": {
  "kernelspec": {
   "display_name": "sparknlp_performance",
   "language": "python",
   "name": "sparknlp_performance"
  },
  "language_info": {
   "codemirror_mode": {
    "name": "ipython",
    "version": 3
   },
   "file_extension": ".py",
   "mimetype": "text/x-python",
   "name": "python",
   "nbconvert_exporter": "python",
   "pygments_lexer": "ipython3",
   "version": "3.7.3"
  },
  "toc": {
   "base_numbering": 1,
   "nav_menu": {},
   "number_sections": true,
   "sideBar": true,
   "skip_h1_title": false,
   "title_cell": "Table of Contents",
   "title_sidebar": "Contents",
   "toc_cell": false,
   "toc_position": {},
   "toc_section_display": true,
   "toc_window_display": false
  },
  "varInspector": {
   "cols": {
    "lenName": 16,
    "lenType": 16,
    "lenVar": 40
   },
   "kernels_config": {
    "python": {
     "delete_cmd_postfix": "",
     "delete_cmd_prefix": "del ",
     "library": "var_list.py",
     "varRefreshCmd": "print(var_dic_list())"
    },
    "r": {
     "delete_cmd_postfix": ") ",
     "delete_cmd_prefix": "rm(",
     "library": "var_list.r",
     "varRefreshCmd": "cat(var_dic_list()) "
    }
   },
   "types_to_exclude": [
    "module",
    "function",
    "builtin_function_or_method",
    "instance",
    "_Feature"
   ],
   "window_display": false
  }
 },
 "nbformat": 4,
 "nbformat_minor": 4
}
