{
 "cells": [
  {
   "cell_type": "code",
   "execution_count": 1,
   "metadata": {},
   "outputs": [],
   "source": [
    "import sparknlp\n",
    "from sparknlp.pretrained import PretrainedPipeline\n",
    "from pyspark.sql import functions as sf\n",
    "from pyspark.ml import Pipeline\n",
    "from pyspark.mllib.evaluation import MulticlassMetrics\n",
    "from pyspark.sql.types import DoubleType\n",
    "import os\n",
    "import time"
   ]
  },
  {
   "cell_type": "code",
   "execution_count": 2,
   "metadata": {},
   "outputs": [],
   "source": [
    "spark = sparknlp.start()"
   ]
  },
  {
   "cell_type": "code",
   "execution_count": 3,
   "metadata": {},
   "outputs": [],
   "source": [
    "DATA_PATH = \"/Users/briancai/Desktop/Datasets/yelp_dataset/yelp_academic_dataset_review.json\"\n",
    "data = spark.read.json(DATA_PATH).limit(1000)\n",
    "\n",
    "data = (\n",
    "    data\n",
    "    .withColumn(\n",
    "        \"label\",\n",
    "        sf.when(data.stars > 3, 1.0).otherwise(0.0)\n",
    "    )\n",
    "    .select(\"text\", \"label\")\n",
    ")"
   ]
  },
  {
   "cell_type": "code",
   "execution_count": 4,
   "metadata": {},
   "outputs": [
    {
     "name": "stdout",
     "output_type": "stream",
     "text": [
      "analyze_sentimentdl_use_imdb download started this may take some time.\n",
      "Approx size to download 935.8 MB\n",
      "[OK!]\n"
     ]
    }
   ],
   "source": [
    "pipeline = PretrainedPipeline(\"analyze_sentimentdl_use_imdb\")"
   ]
  },
  {
   "cell_type": "code",
   "execution_count": 7,
   "metadata": {},
   "outputs": [],
   "source": [
    "preds = (\n",
    "    pipeline\n",
    "    .transform(data)\n",
    "#     .withColumn(\"prediction\", sf.col(\"class.result\").getItem(0).cast(DoubleType()))\n",
    "#     .select(\"label\", \"prediction\")\n",
    ")"
   ]
  },
  {
   "cell_type": "code",
   "execution_count": 10,
   "metadata": {},
   "outputs": [
    {
     "name": "stdout",
     "output_type": "stream",
     "text": [
      "+--------------------+\n",
      "|           sentiment|\n",
      "+--------------------+\n",
      "|[[category, 0, 13...|\n",
      "|[[category, 0, 14...|\n",
      "|[[category, 0, 43...|\n",
      "|[[category, 0, 40...|\n",
      "|[[category, 0, 84...|\n",
      "+--------------------+\n",
      "only showing top 5 rows\n",
      "\n"
     ]
    }
   ],
   "source": [
    "preds.select(\"sentiment\").show(5)"
   ]
  },
  {
   "cell_type": "code",
   "execution_count": 11,
   "metadata": {},
   "outputs": [],
   "source": [
    "pandasDF = preds.toPandas()"
   ]
  },
  {
   "cell_type": "code",
   "execution_count": 22,
   "metadata": {},
   "outputs": [
    {
     "data": {
      "text/plain": [
       "Row(annotatorType='category', begin=0, end=1372, result='positive', metadata={'sentence': '0', 'negative': '3.839735E-12', 'positive': '1.0'}, embeddings=[])"
      ]
     },
     "execution_count": 22,
     "metadata": {},
     "output_type": "execute_result"
    }
   ],
   "source": [
    "pandasDF.loc[0, \"sentiment\"][0]"
   ]
  },
  {
   "cell_type": "code",
   "execution_count": 19,
   "metadata": {},
   "outputs": [],
   "source": [
    "pandasDF['sentiment_result'] = pandasDF.apply(lambda x: x[\"sentiment\"][0][\"result\"], axis=1)"
   ]
  },
  {
   "cell_type": "code",
   "execution_count": 20,
   "metadata": {},
   "outputs": [
    {
     "data": {
      "text/html": [
       "<div>\n",
       "<style scoped>\n",
       "    .dataframe tbody tr th:only-of-type {\n",
       "        vertical-align: middle;\n",
       "    }\n",
       "\n",
       "    .dataframe tbody tr th {\n",
       "        vertical-align: top;\n",
       "    }\n",
       "\n",
       "    .dataframe thead th {\n",
       "        text-align: right;\n",
       "    }\n",
       "</style>\n",
       "<table border=\"1\" class=\"dataframe\">\n",
       "  <thead>\n",
       "    <tr style=\"text-align: right;\">\n",
       "      <th></th>\n",
       "      <th>text</th>\n",
       "      <th>label</th>\n",
       "      <th>document</th>\n",
       "      <th>sentence_embeddings</th>\n",
       "      <th>sentiment</th>\n",
       "      <th>sentiment_result</th>\n",
       "    </tr>\n",
       "  </thead>\n",
       "  <tbody>\n",
       "    <tr>\n",
       "      <th>0</th>\n",
       "      <td>As someone who has worked with many museums, I...</td>\n",
       "      <td>0.0</td>\n",
       "      <td>[(document, 0, 1372, As someone who has worked...</td>\n",
       "      <td>[(sentence_embeddings, 0, 1372, As someone who...</td>\n",
       "      <td>[(category, 0, 1372, positive, {'sentence': '0...</td>\n",
       "      <td>positive</td>\n",
       "    </tr>\n",
       "    <tr>\n",
       "      <th>1</th>\n",
       "      <td>I am actually horrified this place is still in...</td>\n",
       "      <td>0.0</td>\n",
       "      <td>[(document, 0, 1406, I am actually horrified t...</td>\n",
       "      <td>[(sentence_embeddings, 0, 1406, I am actually ...</td>\n",
       "      <td>[(category, 0, 1406, negative, {'sentence': '0...</td>\n",
       "      <td>negative</td>\n",
       "    </tr>\n",
       "    <tr>\n",
       "      <th>2</th>\n",
       "      <td>I love Deagan's. I do. I really do. The atmosp...</td>\n",
       "      <td>1.0</td>\n",
       "      <td>[(document, 0, 430, I love Deagan's. I do. I r...</td>\n",
       "      <td>[(sentence_embeddings, 0, 430, I love Deagan's...</td>\n",
       "      <td>[(category, 0, 430, positive, {'sentence': '0'...</td>\n",
       "      <td>positive</td>\n",
       "    </tr>\n",
       "    <tr>\n",
       "      <th>3</th>\n",
       "      <td>Dismal, lukewarm, defrosted-tasting \"TexMex\" g...</td>\n",
       "      <td>0.0</td>\n",
       "      <td>[(document, 0, 400, Dismal, lukewarm, defroste...</td>\n",
       "      <td>[(sentence_embeddings, 0, 400, Dismal, lukewar...</td>\n",
       "      <td>[(category, 0, 400, positive, {'sentence': '0'...</td>\n",
       "      <td>positive</td>\n",
       "    </tr>\n",
       "    <tr>\n",
       "      <th>4</th>\n",
       "      <td>Oh happy day, finally have a Canes near my cas...</td>\n",
       "      <td>1.0</td>\n",
       "      <td>[(document, 0, 840, Oh happy day, finally have...</td>\n",
       "      <td>[(sentence_embeddings, 0, 840, Oh happy day, f...</td>\n",
       "      <td>[(category, 0, 840, positive, {'sentence': '0'...</td>\n",
       "      <td>positive</td>\n",
       "    </tr>\n",
       "    <tr>\n",
       "      <th>...</th>\n",
       "      <td>...</td>\n",
       "      <td>...</td>\n",
       "      <td>...</td>\n",
       "      <td>...</td>\n",
       "      <td>...</td>\n",
       "      <td>...</td>\n",
       "    </tr>\n",
       "    <tr>\n",
       "      <th>995</th>\n",
       "      <td>my favorite is Okinawa MT or Rose MT, Lychee P...</td>\n",
       "      <td>1.0</td>\n",
       "      <td>[(document, 0, 167, my favorite is Okinawa MT ...</td>\n",
       "      <td>[(sentence_embeddings, 0, 167, my favorite is ...</td>\n",
       "      <td>[(category, 0, 167, positive, {'sentence': '0'...</td>\n",
       "      <td>positive</td>\n",
       "    </tr>\n",
       "    <tr>\n",
       "      <th>996</th>\n",
       "      <td>Great food and good pricing. Food is made fres...</td>\n",
       "      <td>1.0</td>\n",
       "      <td>[(document, 0, 109, Great food and good pricin...</td>\n",
       "      <td>[(sentence_embeddings, 0, 109, Great food and ...</td>\n",
       "      <td>[(category, 0, 109, positive, {'sentence': '0'...</td>\n",
       "      <td>positive</td>\n",
       "    </tr>\n",
       "    <tr>\n",
       "      <th>997</th>\n",
       "      <td>Again only 4 stars cuz i havent tried the food...</td>\n",
       "      <td>1.0</td>\n",
       "      <td>[(document, 0, 277, Again only 4 stars cuz i h...</td>\n",
       "      <td>[(sentence_embeddings, 0, 277, Again only 4 st...</td>\n",
       "      <td>[(category, 0, 277, positive, {'sentence': '0'...</td>\n",
       "      <td>positive</td>\n",
       "    </tr>\n",
       "    <tr>\n",
       "      <th>998</th>\n",
       "      <td>Husband went to get us some food to go from he...</td>\n",
       "      <td>0.0</td>\n",
       "      <td>[(document, 0, 264, Husband went to get us som...</td>\n",
       "      <td>[(sentence_embeddings, 0, 264, Husband went to...</td>\n",
       "      <td>[(category, 0, 264, positive, {'sentence': '0'...</td>\n",
       "      <td>positive</td>\n",
       "    </tr>\n",
       "    <tr>\n",
       "      <th>999</th>\n",
       "      <td>Love shake shack.  Came here the first day the...</td>\n",
       "      <td>1.0</td>\n",
       "      <td>[(document, 0, 405, Love shake shack.  Came he...</td>\n",
       "      <td>[(sentence_embeddings, 0, 405, Love shake shac...</td>\n",
       "      <td>[(category, 0, 405, positive, {'sentence': '0'...</td>\n",
       "      <td>positive</td>\n",
       "    </tr>\n",
       "  </tbody>\n",
       "</table>\n",
       "<p>1000 rows × 6 columns</p>\n",
       "</div>"
      ],
      "text/plain": [
       "                                                  text  label  \\\n",
       "0    As someone who has worked with many museums, I...    0.0   \n",
       "1    I am actually horrified this place is still in...    0.0   \n",
       "2    I love Deagan's. I do. I really do. The atmosp...    1.0   \n",
       "3    Dismal, lukewarm, defrosted-tasting \"TexMex\" g...    0.0   \n",
       "4    Oh happy day, finally have a Canes near my cas...    1.0   \n",
       "..                                                 ...    ...   \n",
       "995  my favorite is Okinawa MT or Rose MT, Lychee P...    1.0   \n",
       "996  Great food and good pricing. Food is made fres...    1.0   \n",
       "997  Again only 4 stars cuz i havent tried the food...    1.0   \n",
       "998  Husband went to get us some food to go from he...    0.0   \n",
       "999  Love shake shack.  Came here the first day the...    1.0   \n",
       "\n",
       "                                              document  \\\n",
       "0    [(document, 0, 1372, As someone who has worked...   \n",
       "1    [(document, 0, 1406, I am actually horrified t...   \n",
       "2    [(document, 0, 430, I love Deagan's. I do. I r...   \n",
       "3    [(document, 0, 400, Dismal, lukewarm, defroste...   \n",
       "4    [(document, 0, 840, Oh happy day, finally have...   \n",
       "..                                                 ...   \n",
       "995  [(document, 0, 167, my favorite is Okinawa MT ...   \n",
       "996  [(document, 0, 109, Great food and good pricin...   \n",
       "997  [(document, 0, 277, Again only 4 stars cuz i h...   \n",
       "998  [(document, 0, 264, Husband went to get us som...   \n",
       "999  [(document, 0, 405, Love shake shack.  Came he...   \n",
       "\n",
       "                                   sentence_embeddings  \\\n",
       "0    [(sentence_embeddings, 0, 1372, As someone who...   \n",
       "1    [(sentence_embeddings, 0, 1406, I am actually ...   \n",
       "2    [(sentence_embeddings, 0, 430, I love Deagan's...   \n",
       "3    [(sentence_embeddings, 0, 400, Dismal, lukewar...   \n",
       "4    [(sentence_embeddings, 0, 840, Oh happy day, f...   \n",
       "..                                                 ...   \n",
       "995  [(sentence_embeddings, 0, 167, my favorite is ...   \n",
       "996  [(sentence_embeddings, 0, 109, Great food and ...   \n",
       "997  [(sentence_embeddings, 0, 277, Again only 4 st...   \n",
       "998  [(sentence_embeddings, 0, 264, Husband went to...   \n",
       "999  [(sentence_embeddings, 0, 405, Love shake shac...   \n",
       "\n",
       "                                             sentiment sentiment_result  \n",
       "0    [(category, 0, 1372, positive, {'sentence': '0...         positive  \n",
       "1    [(category, 0, 1406, negative, {'sentence': '0...         negative  \n",
       "2    [(category, 0, 430, positive, {'sentence': '0'...         positive  \n",
       "3    [(category, 0, 400, positive, {'sentence': '0'...         positive  \n",
       "4    [(category, 0, 840, positive, {'sentence': '0'...         positive  \n",
       "..                                                 ...              ...  \n",
       "995  [(category, 0, 167, positive, {'sentence': '0'...         positive  \n",
       "996  [(category, 0, 109, positive, {'sentence': '0'...         positive  \n",
       "997  [(category, 0, 277, positive, {'sentence': '0'...         positive  \n",
       "998  [(category, 0, 264, positive, {'sentence': '0'...         positive  \n",
       "999  [(category, 0, 405, positive, {'sentence': '0'...         positive  \n",
       "\n",
       "[1000 rows x 6 columns]"
      ]
     },
     "execution_count": 20,
     "metadata": {},
     "output_type": "execute_result"
    }
   ],
   "source": [
    "pandasDF[\"actual_result\"] "
   ]
  },
  {
   "cell_type": "code",
   "execution_count": 26,
   "metadata": {},
   "outputs": [],
   "source": [
    "metrics = MulticlassMetrics(preds.rdd)\n",
    "f1_score = metrics.fMeasure(1.0)"
   ]
  },
  {
   "cell_type": "code",
   "execution_count": 28,
   "metadata": {},
   "outputs": [
    {
     "data": {
      "text/plain": [
       "0.7612903225806451"
      ]
     },
     "execution_count": 28,
     "metadata": {},
     "output_type": "execute_result"
    }
   ],
   "source": [
    "f1_score"
   ]
  },
  {
   "cell_type": "code",
   "execution_count": 29,
   "metadata": {},
   "outputs": [],
   "source": [
    "def save_dict_as_json(dictionary, path):\n",
    "\n",
    "    with open(path, \"w\") as outfile:\n",
    "        json.dump(dictionary, outfile)\n",
    "\n",
    "    return None"
   ]
  },
  {
   "cell_type": "code",
   "execution_count": 30,
   "metadata": {},
   "outputs": [],
   "source": [
    "results_dict = {\n",
    "    \"model type\": \"SparkNLP\",\n",
    "    \"n\": 1000,\n",
    "    \"f1 score\": f1_score,\n",
    "}"
   ]
  },
  {
   "cell_type": "code",
   "execution_count": 31,
   "metadata": {},
   "outputs": [
    {
     "data": {
      "text/plain": [
       "{'model type': 'SparkNLP', 'n': 1000, 'f1 score': 0.7612903225806451}"
      ]
     },
     "execution_count": 31,
     "metadata": {},
     "output_type": "execute_result"
    }
   ],
   "source": [
    "results_dict"
   ]
  },
  {
   "cell_type": "code",
   "execution_count": 32,
   "metadata": {},
   "outputs": [],
   "source": [
    "save_path = os.path.join(\"/Users/briancai/Drive/NU/Q4/Text/sparknlp_performance/output\", \"spark_nlp_1\")\n",
    "save_dict_as_json(results_dict, save_path)"
   ]
  },
  {
   "cell_type": "code",
   "execution_count": null,
   "metadata": {},
   "outputs": [],
   "source": []
  }
 ],
 "metadata": {
  "kernelspec": {
   "display_name": "sparknlp_performance",
   "language": "python",
   "name": "sparknlp_performance"
  },
  "language_info": {
   "codemirror_mode": {
    "name": "ipython",
    "version": 3
   },
   "file_extension": ".py",
   "mimetype": "text/x-python",
   "name": "python",
   "nbconvert_exporter": "python",
   "pygments_lexer": "ipython3",
   "version": "3.7.3"
  },
  "toc": {
   "base_numbering": 1,
   "nav_menu": {},
   "number_sections": true,
   "sideBar": true,
   "skip_h1_title": false,
   "title_cell": "Table of Contents",
   "title_sidebar": "Contents",
   "toc_cell": false,
   "toc_position": {},
   "toc_section_display": true,
   "toc_window_display": false
  },
  "varInspector": {
   "cols": {
    "lenName": 16,
    "lenType": 16,
    "lenVar": 40
   },
   "kernels_config": {
    "python": {
     "delete_cmd_postfix": "",
     "delete_cmd_prefix": "del ",
     "library": "var_list.py",
     "varRefreshCmd": "print(var_dic_list())"
    },
    "r": {
     "delete_cmd_postfix": ") ",
     "delete_cmd_prefix": "rm(",
     "library": "var_list.r",
     "varRefreshCmd": "cat(var_dic_list()) "
    }
   },
   "types_to_exclude": [
    "module",
    "function",
    "builtin_function_or_method",
    "instance",
    "_Feature"
   ],
   "window_display": false
  }
 },
 "nbformat": 4,
 "nbformat_minor": 4
}
